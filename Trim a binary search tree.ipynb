{
 "cells": [
  {
   "cell_type": "code",
   "execution_count": null,
   "metadata": {},
   "outputs": [],
   "source": [
    "def trimBST(tree,minval,maxval):\n",
    "    if not tree:\n",
    "        return\n",
    "    \n",
    "    tree.left = trimBST(tree.left,minval,maxval)\n",
    "    tree.right = trimBST(tree.right,minval,maxval)\n",
    "    \n",
    "    if minval <= tree.val <= maxval:\n",
    "        return tree\n",
    "    \n",
    "    if tree.val < minval:\n",
    "        return tree.right\n",
    "    \n",
    "    if tree.val > maxval:\n",
    "        return tree.left"
   ]
  }
 ],
 "metadata": {
  "kernelspec": {
   "display_name": "Python 3",
   "language": "python",
   "name": "python3"
  },
  "language_info": {
   "codemirror_mode": {
    "name": "ipython",
    "version": 3
   },
   "file_extension": ".py",
   "mimetype": "text/x-python",
   "name": "python",
   "nbconvert_exporter": "python",
   "pygments_lexer": "ipython3",
   "version": "3.7.4"
  }
 },
 "nbformat": 4,
 "nbformat_minor": 2
}
